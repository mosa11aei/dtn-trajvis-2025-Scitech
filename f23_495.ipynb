{
 "cells": [
  {
   "cell_type": "code",
   "execution_count": null,
   "metadata": {},
   "outputs": [],
   "source": [
    "%pip install -r TrajVis/requirements.txt"
   ]
  },
  {
   "cell_type": "code",
   "execution_count": 9,
   "metadata": {},
   "outputs": [],
   "source": [
    "from TrajVis.components.balloon import Balloon\n",
    "from TrajVis.components.network import Network\n",
    "from TrajVis.components.networkanalyzer import NetworkAnalyzer as na\n",
    "from TrajVis.components.plothelper import PlotHelper as ph\n",
    "from TrajVis.components.windmap import WindMap as wm\n",
    "from TrajVis.components.sample_antennas import *\n",
    "from TrajVis.components.datahandler import DataHandler as dh\n",
    "from antennas import *\n",
    "import copy\n",
    "\n",
    "import pandas as pd\n",
    "import numpy as np\n",
    "\n",
    "import matplotlib.pyplot as plt"
   ]
  },
  {
   "cell_type": "code",
   "execution_count": 10,
   "metadata": {},
   "outputs": [
    {
     "name": "stdout",
     "output_type": "stream",
     "text": [
      "1  popped at  7738.0\n",
      "1  hit the ground at time t= 10003.0\n",
      "2  popped at  7122.5\n",
      "2  hit the ground at time t= 9389.0\n",
      "3  popped at  6770.0\n",
      "3  hit the ground at time t= 9036.5\n",
      "4  popped at  6673.5\n",
      "4  hit the ground at time t= 8940.5\n"
     ]
    }
   ],
   "source": [
    "MyWindMap = wm(500, 500, 1)\n",
    "MyWindMap.create_windmap()\n",
    "MyWindMap.bound(4)\n",
    "\n",
    "MyPlotHelper = ph(MyWindMap)\n",
    "MyPlotHelper.populate(show_scale=False)\n",
    "# MyPlotHelper.plot(debug=False)\n",
    "\n",
    "B1 = Balloon(MyWindMap, \"1\", \"red\")\n",
    "B2 = Balloon(MyWindMap, \"2\", \"blue\")\n",
    "B3 = Balloon(MyWindMap, \"3\", \"green\")\n",
    "B4 = Balloon(MyWindMap, \"4\", \"orange\")\n",
    "\n",
    "B1.set_start_pos(-20, -45)\n",
    "B2.set_start_pos(-20, -48)\n",
    "B3.set_start_pos(-21, -33)\n",
    "B4.set_start_pos(-20, -38)\n",
    "\n",
    "tickResponse_1 = 1\n",
    "tickResponse_2 = 1\n",
    "tickResponse_3 = 1\n",
    "tickResponse_4 = 1\n",
    "\n",
    "AntennaToUse = CPXband\n",
    "B1.add_antenna(AntennaToUse)\n",
    "B2.add_antenna(AntennaToUse)\n",
    "B3.add_antenna(AntennaToUse)\n",
    "B4.add_antenna(AntennaToUse)\n",
    "\n",
    "# MyPlotHelper.plot_balloons(B1, B2, B3, B4, B5)\n",
    "# MyPlotHelper.zoom_in(100, 100)\n",
    "\n",
    "NA = na(B1, B2, B3, B4)\n",
    "\n",
    "MyNetwork = Network(B1,\n",
    "                    B2,\n",
    "                    B3,\n",
    "                    B4,\n",
    "                    start=B1,\n",
    "                    end=B4,\n",
    "                    generic_path=[\"1\", \"2\", \"3\", \"4\"])\n",
    "\n",
    "while tickResponse_1:\n",
    "    tickResponse_1 = B1.tick()\n",
    "while tickResponse_2:\n",
    "    tickResponse_2 = B2.tick()\n",
    "while tickResponse_3:\n",
    "    tickResponse_3 = B3.tick()\n",
    "while tickResponse_4:\n",
    "    tickResponse_4 = B4.tick()"
   ]
  },
  {
   "cell_type": "markdown",
   "metadata": {},
   "source": [
    "# Generating Coords from APRS"
   ]
  },
  {
   "cell_type": "code",
   "execution_count": 11,
   "metadata": {},
   "outputs": [],
   "source": [
    "import os\n",
    "import numpy as np\n",
    "import pandas as pd\n",
    "import matplotlib.pyplot as plt\n",
    "\n",
    "from datetime import datetime, timedelta"
   ]
  },
  {
   "cell_type": "code",
   "execution_count": 12,
   "metadata": {},
   "outputs": [
    {
     "name": "stdout",
     "output_type": "stream",
     "text": [
      "Team Mike: 89 coordinates\n",
      "Team November: 89 coordinates\n",
      "Team Papa: 89 coordinates\n",
      "Team Quebec: 89 coordinates\n"
     ]
    }
   ],
   "source": [
    "# hijack the balloons with actual APRS data\n",
    "def latlng_to_xy(lat, lng, origin_lat, origin_lng):\n",
    "    \"\"\"\n",
    "    Convert latitude and longitude to relative X, Y coordinates in meters.\n",
    "    Uses a simple equirectangular projection approximation.\n",
    "    \"\"\"\n",
    "    R = 6371000  # Earth radius in meters\n",
    "    x = R * np.radians(lng - origin_lng) * np.cos(np.radians(origin_lat))\n",
    "    y = R * np.radians(lat - origin_lat)\n",
    "    return x, y\n",
    "\n",
    "def linear_interpolate(x, y, target_x):\n",
    "    \"\"\"\n",
    "    Perform linear interpolation or edge value extrapolation.\n",
    "    x: Array of existing timestamps\n",
    "    y: Array of values corresponding to x (same length)\n",
    "    target_x: Target timestamp to interpolate/extrapolate\n",
    "    \"\"\"\n",
    "    if target_x <= x[0]:\n",
    "        return y[0]  # Use the first value for timestamps before the range\n",
    "    elif target_x >= x[-1]:\n",
    "        return y[-1]  # Use the last value for timestamps after the range\n",
    "    else:\n",
    "        idx = np.searchsorted(x, target_x)  # Find the index of the closest larger value\n",
    "        x0, x1 = x[idx - 1], x[idx]\n",
    "        y0, y1 = y[idx - 1], y[idx]\n",
    "        return y0 + (y1 - y0) * (target_x - x0) / (x1 - x0)  # Linear interpolation formula\n",
    "\n",
    "def process_balloon_data(folder_path):\n",
    "    data = {}\n",
    "    all_timestamps = []\n",
    "    origin_lat, origin_lng = None, None\n",
    "    \n",
    "    # Step 1: Parse all files and collect timestamps\n",
    "    files_data = {}\n",
    "    for file_name in sorted(os.listdir(folder_path)):\n",
    "        if file_name.endswith('.csv'):\n",
    "            team_name = file_name.split()[0]  # Extract team name\n",
    "            file_path = os.path.join(folder_path, file_name)\n",
    "            \n",
    "            # Load data\n",
    "            df = pd.read_csv(file_path)\n",
    "            df['timestamp'] = pd.to_datetime(df['time']).astype('int64') // 10**9  # Convert to UNIX time\n",
    "            \n",
    "            # Initialize origin_lat, origin_lng from the first file's first row\n",
    "            if origin_lat is None or origin_lng is None:\n",
    "                origin_lat, origin_lng = df['lat'][0], df['lng'][0]\n",
    "            \n",
    "            # Convert lat/lng to relative x, y\n",
    "            df['x'], df['y'] = zip(*df.apply(lambda row: latlng_to_xy(row['lat'], row['lng'], origin_lat, origin_lng), axis=1))\n",
    "            \n",
    "            files_data[team_name] = df\n",
    "            all_timestamps.extend(df['timestamp'].tolist())\n",
    "    \n",
    "    # Step 2: Determine the unified timestamp range\n",
    "    earliest_timestamp = min(all_timestamps)\n",
    "    latest_timestamp = max(all_timestamps)\n",
    "    \n",
    "    # Extend the range to cover an integer number of minutes\n",
    "    earliest_timestamp = earliest_timestamp - (earliest_timestamp % 60)\n",
    "    latest_timestamp = latest_timestamp + (60 - latest_timestamp % 60)\n",
    "    unified_timestamps = np.arange(earliest_timestamp, latest_timestamp + 1, 60)  # 1-minute steps\n",
    "    \n",
    "    # Step 3: Interpolate data for each team\n",
    "    for team_name, df in files_data.items():\n",
    "        timestamps = df['timestamp'].values\n",
    "        x_values = df['x'].values\n",
    "        y_values = df['y'].values\n",
    "        z_values = df['altitude'].values\n",
    "        \n",
    "        # Interpolate x, y, z for unified timestamps\n",
    "        interpolated_x = [linear_interpolate(timestamps, x_values, t) for t in unified_timestamps]\n",
    "        interpolated_y = [linear_interpolate(timestamps, y_values, t) for t in unified_timestamps]\n",
    "        interpolated_z = [linear_interpolate(timestamps, z_values, t) for t in unified_timestamps]\n",
    "        \n",
    "        # Combine into 1D array of [x, y, z]\n",
    "        data[team_name] = np.column_stack((interpolated_x, interpolated_y, interpolated_z))\n",
    "    \n",
    "    return data, unified_timestamps\n",
    "\n",
    "folder_path = \"./f23_495_aprs\"\n",
    "balloon_data, unified_timestamps = process_balloon_data(folder_path)\n",
    "\n",
    "# Output example\n",
    "for team, coordinates in balloon_data.items():\n",
    "    print(f\"Team {team}: {len(coordinates)} coordinates\")"
   ]
  },
  {
   "cell_type": "code",
   "execution_count": null,
   "metadata": {},
   "outputs": [],
   "source": [
    "# hijack balloons with coords\n",
    "\n",
    "for team, coords in balloon_data.items():\n",
    "    if team == \"Mike\":\n",
    "        B1.coordinates = coords\n",
    "        B1.attitudes = B1.attitudes[:len(coords)]\n",
    "    elif team == \"November\":\n",
    "        B2.coordinates = coords\n",
    "        B2.attitudes = B2.attitudes[:len(coords)]\n",
    "    elif team == \"Papa\":\n",
    "        B3.coordinates = coords\n",
    "        B3.attitudes = B3.attitudes[:len(coords)]\n",
    "    elif team == \"Quebec\":\n",
    "        B4.coordinates = coords\n",
    "        B4.attitudes = B4.attitudes[:len(coords)]"
   ]
  },
  {
   "cell_type": "code",
   "execution_count": null,
   "metadata": {},
   "outputs": [
    {
     "ename": "KeyError",
     "evalue": "'Mike'",
     "output_type": "error",
     "traceback": [
      "\u001b[1;31m---------------------------------------------------------------------------\u001b[0m",
      "\u001b[1;31mKeyError\u001b[0m                                  Traceback (most recent call last)",
      "Cell \u001b[1;32mIn[14], line 7\u001b[0m\n\u001b[0;32m      5\u001b[0m ge_sensitivities_time \u001b[38;5;241m=\u001b[39m []\n\u001b[0;32m      6\u001b[0m \u001b[38;5;28;01mfor\u001b[39;00m i \u001b[38;5;129;01min\u001b[39;00m \u001b[38;5;28mrange\u001b[39m(\u001b[38;5;241m1\u001b[39m, \u001b[38;5;241m8000\u001b[39m):\n\u001b[1;32m----> 7\u001b[0m     \u001b[43mMyNetwork\u001b[49m\u001b[38;5;241;43m.\u001b[39;49m\u001b[43mrecalculate\u001b[49m\u001b[43m(\u001b[49m\u001b[43mi\u001b[49m\u001b[43m,\u001b[49m\u001b[43m \u001b[49m\u001b[43mNA\u001b[49m\u001b[38;5;241;43m.\u001b[39;49m\u001b[43mrp\u001b[49m\u001b[43m)\u001b[49m\n\u001b[0;32m      8\u001b[0m     MyNetwork\u001b[38;5;241m.\u001b[39mtransmit(i, NA\u001b[38;5;241m.\u001b[39mrp)\n\u001b[0;32m     10\u001b[0m     re_total_rp, re_sensitivity_test \u001b[38;5;241m=\u001b[39m MyNetwork\u001b[38;5;241m.\u001b[39mcalculate_total_rp(i, NA\u001b[38;5;241m.\u001b[39mrp, path\u001b[38;5;241m=\u001b[39m\u001b[38;5;124m\"\u001b[39m\u001b[38;5;124mCurrent\u001b[39m\u001b[38;5;124m\"\u001b[39m)\n",
      "File \u001b[1;32mc:\\Users\\Ali Mosallaei\\Desktop\\Desktop\\MXL\\dtn-trajvis-2025-Scitech\\TrajVis\\components\\network.py:138\u001b[0m, in \u001b[0;36mNetwork.recalculate\u001b[1;34m(self, time, rp_calculator)\u001b[0m\n\u001b[0;32m    136\u001b[0m \u001b[38;5;28;01mif\u001b[39;00m rp \u001b[38;5;241m>\u001b[39m\u001b[38;5;241m=\u001b[39m rx\u001b[38;5;241m.\u001b[39mantenna\u001b[38;5;241m.\u001b[39msensitivity \u001b[38;5;129;01mand\u001b[39;00m \u001b[38;5;129;01mnot\u001b[39;00m dead_node:\n\u001b[0;32m    137\u001b[0m     newGraph\u001b[38;5;241m.\u001b[39madd_edge(tx\u001b[38;5;241m.\u001b[39mname, rx\u001b[38;5;241m.\u001b[39mname, weight\u001b[38;5;241m=\u001b[39mrp)\n\u001b[1;32m--> 138\u001b[0m     \u001b[38;5;28;43mself\u001b[39;49m\u001b[38;5;241;43m.\u001b[39;49m\u001b[43mconnections\u001b[49m\u001b[43m[\u001b[49m\u001b[43mtx\u001b[49m\u001b[38;5;241;43m.\u001b[39;49m\u001b[43mname\u001b[49m\u001b[43m]\u001b[49m[rx\u001b[38;5;241m.\u001b[39mname] \u001b[38;5;241m=\u001b[39m rp\n\u001b[0;32m    139\u001b[0m \u001b[38;5;28;01melse\u001b[39;00m:\n\u001b[0;32m    140\u001b[0m     \u001b[38;5;28mself\u001b[39m\u001b[38;5;241m.\u001b[39mconnections[tx\u001b[38;5;241m.\u001b[39mname][rx\u001b[38;5;241m.\u001b[39mname] \u001b[38;5;241m=\u001b[39m \u001b[38;5;28;01mFalse\u001b[39;00m\n",
      "\u001b[1;31mKeyError\u001b[0m: 'Mike'"
     ]
    }
   ],
   "source": [
    "reconfig_rp = []\n",
    "generic_rp = []\n",
    "reconfig_sensitivity = []\n",
    "generic_sensitivity = []\n",
    "ge_sensitivities_time = []\n",
    "for i in range(1, 90):\n",
    "    MyNetwork.recalculate(i, NA.rp)\n",
    "    MyNetwork.transmit(i, NA.rp)\n",
    "    \n",
    "    re_total_rp, re_sensitivity_test = MyNetwork.calculate_total_rp(i, NA.rp, path=\"Current\")\n",
    "    generic_total_rp, ge_sensitivity_test = MyNetwork.calculate_total_rp(i, NA.rp, path=\"Generic\")\n",
    "    \n",
    "    reconfig_rp.append(re_total_rp)\n",
    "    generic_rp.append(generic_total_rp)\n",
    "    \n",
    "    reconfig_sensitivity.append(re_sensitivity_test)\n",
    "    if ge_sensitivity_test:\n",
    "        generic_sensitivity.append(generic_total_rp)\n",
    "        ge_sensitivities_time.append(i)\n",
    "    \n",
    "# NA.show_pointing(3500, B1, B2, B3, B4, B5, B6, B7, B8)"
   ]
  },
  {
   "cell_type": "code",
   "execution_count": null,
   "metadata": {},
   "outputs": [],
   "source": [
    "myDH = dh(MyNetwork)\n",
    "\n",
    "print(len(reconfig_rp), len(generic_rp))\n",
    "\n",
    "# myDH.trp_comparison_to_csv(path1=reconfig_rp, path2=generic_rp, generic_sensitivities=[ge_sensitivities_time, generic_sensitivity], path1_name=\"Reconfigurable Path\", path2_name=\"Generic Path\", plot_meaningfuls=True, system=\"A\")\n",
    "\n",
    "myDH.plot_trp_comparison(path1=reconfig_rp, path2=generic_rp, generic_sensitivities=[ge_sensitivities_time, generic_sensitivity], path1_name=\"Reconfigurable Path\", path2_name=\"Generic Path\", plot_meaningfuls=True, system=\"B\")"
   ]
  }
 ],
 "metadata": {
  "kernelspec": {
   "display_name": "Python 3",
   "language": "python",
   "name": "python3"
  },
  "language_info": {
   "codemirror_mode": {
    "name": "ipython",
    "version": 3
   },
   "file_extension": ".py",
   "mimetype": "text/x-python",
   "name": "python",
   "nbconvert_exporter": "python",
   "pygments_lexer": "ipython3",
   "version": "3.12.2"
  }
 },
 "nbformat": 4,
 "nbformat_minor": 2
}
