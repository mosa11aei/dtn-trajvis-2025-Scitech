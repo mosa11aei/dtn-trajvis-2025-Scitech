{
 "cells": [
  {
   "cell_type": "markdown",
   "id": "a527733d-5cb5-4c6e-8f1f-a36b56854598",
   "metadata": {},
   "source": [
    "### Imports"
   ]
  },
  {
   "cell_type": "code",
   "execution_count": 1,
   "id": "6c7567d9-744a-4704-a379-cffd8d3a9483",
   "metadata": {},
   "outputs": [],
   "source": [
    "import numpy as np\n",
    "from typing import NamedTuple\n",
    "from scipy.optimize import fsolve"
   ]
  },
  {
   "cell_type": "markdown",
   "id": "fa9695c4-8584-4fc8-8466-7451847ea24c",
   "metadata": {},
   "source": [
    "### Calculate the link budget (link margin)"
   ]
  },
  {
   "cell_type": "code",
   "execution_count": 2,
   "id": "a12d80a7-a932-49f4-8476-9aaaee87b640",
   "metadata": {},
   "outputs": [],
   "source": [
    "class LinkBudgetParams(NamedTuple):\n",
    "    transmitter_frequency: float    # in GHz\n",
    "    transmitter_power: float        # in W\n",
    "    transmitter_antenna_gain: float # in dB\n",
    "    transmitter_line_loss: float    # in dB\n",
    "    distance: float                 # in km\n",
    "    atmospheric_loss: float         # in dB\n",
    "    receiver_antenna_gain: float    # in dB\n",
    "    reciever_input_loss: float      # in dB\n",
    "    pointing_loss: float            # in dB\n",
    "    receiver_NF: float              # in dB\n",
    "    modulation_rate: float          # dimless\n",
    "    computer_imp_efficiency: float  # dimless\n",
    "    Eb_N0_req: float                # in dB\n",
    "    link_margin_req: float          # in dB\n",
    "\n",
    "\n",
    "def calculate_link_margin(link_params: LinkBudgetParams, data_rate: float) -> float:\n",
    "\n",
    "    P_t_db = 10 * np.log10(link_params.transmitter_power)\n",
    "    EIRP = P_t_db + link_params.transmitter_antenna_gain - link_params.transmitter_line_loss\n",
    "    FSL = 92.45 + 20 * np.log10(link_params.distance) + 20 * np.log10(link_params.transmitter_frequency)\n",
    "    path_losses = link_params.transmitter_line_loss + FSL + link_params.atmospheric_loss + link_params.reciever_input_loss + link_params.pointing_loss\n",
    "    P_total = EIRP + link_params.receiver_antenna_gain - path_losses\n",
    "    T_N = (10**(link_params.receiver_NF/10) - 1)*290\n",
    "    T = 10 * np.log10(T_N)\n",
    "    G_T = link_params.receiver_antenna_gain - T\n",
    "    C_N0 = P_total + G_T - link_params.receiver_antenna_gain + 228.6\n",
    "    R_e = data_rate / link_params.modulation_rate / link_params.computer_imp_efficiency\n",
    "    Eb_N0_pred = C_N0 - 10 * np.log10(R_e)\n",
    "    M_p = Eb_N0_pred - link_params.Eb_N0_req\n",
    "    \n",
    "    return M_p"
   ]
  },
  {
   "cell_type": "code",
   "execution_count": 3,
   "id": "ea1d011a-484b-41dc-abe8-69f6fb8f5e96",
   "metadata": {},
   "outputs": [
    {
     "name": "stdout",
     "output_type": "stream",
     "text": [
      "Resulting Link Margin: 3.0474858823285125 dB\n"
     ]
    }
   ],
   "source": [
    "# Example usage:\n",
    "link_params = LinkBudgetParams(\n",
    "    transmitter_frequency = 0.915,  # in GHz\n",
    "    transmitter_power = 1,          # in W\n",
    "    transmitter_antenna_gain = 1,   # in dB\n",
    "    transmitter_line_loss = 1,      # in dB\n",
    "    distance = 100,                 # in km\n",
    "    atmospheric_loss = 0.05,        # in dB\n",
    "    receiver_antenna_gain = 1,      # in dB\n",
    "    reciever_input_loss = 1,        # in dB\n",
    "    pointing_loss = 0.12,           # in dB\n",
    "    receiver_NF = 5,                # in dB\n",
    "    modulation_rate = 0.8,          # dimless\n",
    "    computer_imp_efficiency = 0.95, # dimless\n",
    "    Eb_N0_req = 5.41,               # in dB\n",
    "    link_margin_req = 3             # in dB\n",
    ")\n",
    "\n",
    "data_rate = 650000\n",
    "\n",
    "link_margin = calculate_link_margin(link_params, data_rate)\n",
    "print(f'Resulting Link Margin: {link_margin} dB')"
   ]
  },
  {
   "cell_type": "markdown",
   "id": "91385c2d-6415-41fe-ac45-5e49fda8892e",
   "metadata": {},
   "source": [
    "### Calculate data rate using the link budget"
   ]
  },
  {
   "cell_type": "code",
   "execution_count": 4,
   "id": "3e6625f7-e198-4acd-ab4f-3c9d15128fc6",
   "metadata": {},
   "outputs": [],
   "source": [
    "def data_rate_for_desired_link_margin(link_params: LinkBudgetParams, desired_link_margin: float) -> float:\n",
    "    \n",
    "    # Define a function to represent the difference between current and desired Eb/N0\n",
    "    def margin_residual(data_rate):\n",
    "        current_margin = calculate_link_margin(link_params, data_rate)\n",
    "        return current_margin - desired_link_margin\n",
    "    \n",
    "    # Find the data rate that satisfies the residual function\n",
    "    initial_guess = 1e6  # Starting with a guess of 1 Mbps\n",
    "    data_rate_solution = fsolve(margin_residual, initial_guess)\n",
    "\n",
    "    return data_rate_solution[0]"
   ]
  },
  {
   "cell_type": "code",
   "execution_count": 5,
   "id": "c720cb70-fae9-45a9-a012-260bf942dbc3",
   "metadata": {},
   "outputs": [
    {
     "name": "stdout",
     "output_type": "stream",
     "text": [
      "Maximum Data Rate: 657146.1152294305 bps\n"
     ]
    }
   ],
   "source": [
    "# Example usage:\n",
    "link_params = LinkBudgetParams(\n",
    "    transmitter_frequency = 0.915,  # in GHz\n",
    "    transmitter_power = 1,          # in W\n",
    "    transmitter_antenna_gain = 1,   # in dB\n",
    "    transmitter_line_loss = 1,      # in dB\n",
    "    distance = 100,                 # in km\n",
    "    atmospheric_loss = 0.05,        # in dB\n",
    "    receiver_antenna_gain = 1,      # in dB\n",
    "    reciever_input_loss = 1,        # in dB\n",
    "    pointing_loss = 0.12,           # in dB\n",
    "    receiver_NF = 5,                # in dB\n",
    "    modulation_rate = 0.8,          # dimless\n",
    "    computer_imp_efficiency = 0.95, # dimless\n",
    "    Eb_N0_req = 5.41,               # in dB\n",
    "    link_margin_req = 3             # in dB\n",
    ")\n",
    "\n",
    "desired_link_margin = 3 # in dB\n",
    "max_data_rate = data_rate_for_desired_link_margin(link_params, desired_link_margin)\n",
    "print(f'Maximum Data Rate: {max_data_rate} bps')"
   ]
  },
  {
   "cell_type": "code",
   "execution_count": null,
   "id": "f9210e68-e846-4077-8008-8953d4b9f690",
   "metadata": {},
   "outputs": [],
   "source": []
  }
 ],
 "metadata": {
  "kernelspec": {
   "display_name": "Python 3 (ipykernel)",
   "language": "python",
   "name": "python3"
  },
  "language_info": {
   "codemirror_mode": {
    "name": "ipython",
    "version": 3
   },
   "file_extension": ".py",
   "mimetype": "text/x-python",
   "name": "python",
   "nbconvert_exporter": "python",
   "pygments_lexer": "ipython3",
   "version": "3.11.8"
  }
 },
 "nbformat": 4,
 "nbformat_minor": 5
}